{
  "nbformat": 4,
  "nbformat_minor": 0,
  "metadata": {
    "accelerator": "GPU",
    "colab": {
      "name": "tabNet.ipynb",
      "provenance": []
    },
    "kernelspec": {
      "display_name": "Python 3",
      "name": "python3"
    },
    "language_info": {
      "name": "python"
    }
  },
  "cells": [
    {
      "cell_type": "code",
      "metadata": {
        "colab": {
          "base_uri": "https://localhost:8080/"
        },
        "id": "KcB3Q29B7JsD",
        "outputId": "1cd29411-fd53-46e0-d494-a5876418ea68"
      },
      "source": [
        "from google.colab import drive\n",
        "drive.mount('/content/drive')\n",
        "\n",
        "path = '/content/drive/My Drive/Colab Notebooks/home-credit-default-risk'"
      ],
      "execution_count": null,
      "outputs": [
        {
          "output_type": "stream",
          "text": [
            "Mounted at /content/drive\n"
          ],
          "name": "stdout"
        }
      ]
    },
    {
      "cell_type": "code",
      "metadata": {
        "id": "AQueL7n-7Nfz"
      },
      "source": [
        "import pandas as pd \n",
        "import numpy as np\n",
        "\n",
        "import warnings\n",
        "warnings.filterwarnings('ignore')"
      ],
      "execution_count": null,
      "outputs": []
    },
    {
      "cell_type": "code",
      "metadata": {
        "id": "z-3jvvjP7PPL"
      },
      "source": [
        "train = pd.read_csv(path + '/train.csv').set_index('SK_ID_CURR')\n",
        "test = pd.read_csv(path + '/test.csv').set_index('SK_ID_CURR')\n",
        "\n",
        "kaggle_test = pd.read_csv(path + '/kaggle_test.csv').set_index('SK_ID_CURR')"
      ],
      "execution_count": null,
      "outputs": []
    },
    {
      "cell_type": "code",
      "metadata": {
        "colab": {
          "base_uri": "https://localhost:8080/"
        },
        "id": "ecTbkZ0v7Rrf",
        "outputId": "19dae56f-3a83-4575-c8b8-58dff4ae5ec8"
      },
      "source": [
        "train.dtypes.unique()"
      ],
      "execution_count": null,
      "outputs": [
        {
          "output_type": "execute_result",
          "data": {
            "text/plain": [
              "array([dtype('int64'), dtype('O'), dtype('float64')], dtype=object)"
            ]
          },
          "metadata": {
            "tags": []
          },
          "execution_count": 4
        }
      ]
    },
    {
      "cell_type": "code",
      "metadata": {
        "id": "CU6rYgaY7irB"
      },
      "source": [
        "categorical = train.select_dtypes('O').columns.tolist()\n",
        "numeric = train.drop(columns=['TARGET']).select_dtypes(include=np.number).columns.tolist()\n",
        "features = np.concatenate((numeric, categorical), axis=0)"
      ],
      "execution_count": null,
      "outputs": []
    },
    {
      "cell_type": "code",
      "metadata": {
        "id": "9ahQxPu07nW8"
      },
      "source": [
        "X_train, y_train = train.drop(columns=['TARGET']), train['TARGET']\n",
        "X_test, y_test = test.drop(columns=['TARGET']), test['TARGET']"
      ],
      "execution_count": null,
      "outputs": []
    },
    {
      "cell_type": "code",
      "metadata": {
        "id": "Aq6hBRfl74Wb"
      },
      "source": [
        "from sklearn.impute import SimpleImputer\n",
        "\n",
        "def process_features(df):\n",
        "  ########### process numeric features #############\n",
        "\n",
        "  # delete inf values\n",
        "  df[numeric] = df[numeric].replace([float(\"inf\"), float(\"-inf\")], np.nan)\n",
        "\n",
        "  # change NaNs to mean value in the column  \n",
        "  imputer = SimpleImputer(missing_values = np.nan, strategy = 'mean')\n",
        "  df[numeric] = imputer.fit_transform(df[numeric])\n",
        "\n",
        "  ########### process categorical features ########\n",
        "\n",
        "  # change NaNs to 'NULL' category\n",
        "  df[categorical] = df[categorical].astype('category')\n",
        "  for col in categorical:\n",
        "    df[col] = df[col].cat.add_categories(['NULL'])\n",
        "    df[col].fillna('NULL', inplace=True)\n",
        "  \n",
        "  return df"
      ],
      "execution_count": null,
      "outputs": []
    },
    {
      "cell_type": "code",
      "metadata": {
        "id": "7ILPDwXR77ja"
      },
      "source": [
        "X_train = process_features(X_train)\n",
        "X_test = process_features(X_test)"
      ],
      "execution_count": null,
      "outputs": []
    },
    {
      "cell_type": "code",
      "metadata": {
        "id": "XYsPkW0-8HWo"
      },
      "source": [
        "kaggle_test[numeric] = kaggle_test[numeric].replace([float(\"inf\"), float(\"-inf\")], np.nan)\n",
        "kaggle_test_mean = kaggle_test[numeric].mean()\n",
        "kaggle_test_mean = kaggle_test_mean.fillna(0)\n",
        "kaggle_test[numeric] = kaggle_test[numeric].fillna(kaggle_test_mean)"
      ],
      "execution_count": null,
      "outputs": []
    },
    {
      "cell_type": "code",
      "metadata": {
        "id": "j046qhK78NO4"
      },
      "source": [
        "kaggle_test[categorical] = kaggle_test[categorical].astype('category')\n",
        "for col in categorical:\n",
        "  kaggle_test[col] = kaggle_test[col].cat.add_categories(['NULL'])\n",
        "  kaggle_test[col].fillna('NULL', inplace=True)"
      ],
      "execution_count": null,
      "outputs": []
    },
    {
      "cell_type": "markdown",
      "metadata": {
        "id": "ZX6YXJrQ8Q_e"
      },
      "source": [
        "### Label Encoding"
      ]
    },
    {
      "cell_type": "code",
      "metadata": {
        "id": "54MLYd6v9Rhj"
      },
      "source": [
        "X_train_le, y_train_le = X_train, y_train\n",
        "X_test_le, y_test_le = X_test, y_test\n",
        "kaggle_test_le = kaggle_test"
      ],
      "execution_count": null,
      "outputs": []
    },
    {
      "cell_type": "code",
      "metadata": {
        "id": "PJOM89GO8Wd2"
      },
      "source": [
        "from sklearn import preprocessing\n",
        "from sklearn.preprocessing import LabelEncoder\n",
        "\n",
        "categorical_dims =  {}\n",
        "\n",
        "# encode categorical features\n",
        "for column in categorical:\n",
        "    le = LabelEncoder()\n",
        "    le.fit(list(X_train_le[column].values) + list(X_test_le[column].values) + list(kaggle_test_le[column].values))\n",
        "    X_train_le[column] = le.transform(list(X_train_le[column].values))\n",
        "    X_test_le[column] = le.transform(list(X_test_le[column].values))\n",
        "    kaggle_test_le[column] = le.transform(list(kaggle_test_le[column].values))\n",
        "    categorical_dims[column] = len(le.classes_)"
      ],
      "execution_count": null,
      "outputs": []
    },
    {
      "cell_type": "code",
      "metadata": {
        "id": "1qgbJ65K9x3g"
      },
      "source": [
        "from sklearn.preprocessing import MinMaxScaler\n",
        "\n",
        "# standardization\n",
        "X_train_le = pd.DataFrame(MinMaxScaler().fit_transform(X_train_le), columns=features)\n",
        "X_test_le = pd.DataFrame(MinMaxScaler().fit_transform(X_test_le), columns=features)\n",
        "kaggle_test_le = pd.DataFrame(MinMaxScaler().fit_transform(kaggle_test_le), columns=features)"
      ],
      "execution_count": null,
      "outputs": []
    },
    {
      "cell_type": "markdown",
      "metadata": {
        "id": "NpbegrrRRNks"
      },
      "source": [
        "### TabNet (prod)\n"
      ]
    },
    {
      "cell_type": "code",
      "metadata": {
        "colab": {
          "base_uri": "https://localhost:8080/"
        },
        "id": "Imh0mSuzRU4I",
        "outputId": "68cbd399-a2c8-4a48-c58d-7e35a98030cf"
      },
      "source": [
        "!pip install pytorch_tabnet"
      ],
      "execution_count": null,
      "outputs": [
        {
          "output_type": "stream",
          "text": [
            "Requirement already satisfied: pytorch_tabnet in /usr/local/lib/python3.7/dist-packages (3.1.1)\n",
            "Requirement already satisfied: tqdm<5.0,>=4.36 in /usr/local/lib/python3.7/dist-packages (from pytorch_tabnet) (4.41.1)\n",
            "Requirement already satisfied: numpy<2.0,>=1.17 in /usr/local/lib/python3.7/dist-packages (from pytorch_tabnet) (1.19.5)\n",
            "Requirement already satisfied: scipy>1.4 in /usr/local/lib/python3.7/dist-packages (from pytorch_tabnet) (1.4.1)\n",
            "Requirement already satisfied: scikit_learn>0.21 in /usr/local/lib/python3.7/dist-packages (from pytorch_tabnet) (0.22.2.post1)\n",
            "Requirement already satisfied: torch<2.0,>=1.2 in /usr/local/lib/python3.7/dist-packages (from pytorch_tabnet) (1.8.1+cu101)\n",
            "Requirement already satisfied: joblib>=0.11 in /usr/local/lib/python3.7/dist-packages (from scikit_learn>0.21->pytorch_tabnet) (1.0.1)\n",
            "Requirement already satisfied: typing-extensions in /usr/local/lib/python3.7/dist-packages (from torch<2.0,>=1.2->pytorch_tabnet) (3.7.4.3)\n"
          ],
          "name": "stdout"
        }
      ]
    },
    {
      "cell_type": "code",
      "metadata": {
        "id": "eSXHfdm8Rml0"
      },
      "source": [
        "from pytorch_tabnet.tab_model import TabNetClassifier"
      ],
      "execution_count": null,
      "outputs": []
    },
    {
      "cell_type": "code",
      "metadata": {
        "id": "kSdhl7cHRnLL"
      },
      "source": [
        "cat_idxs = [ i for i, f in enumerate(features) if f in categorical]\n",
        "cat_dims = [ categorical_dims[f] for i, f in enumerate(features) if f in categorical]"
      ],
      "execution_count": null,
      "outputs": []
    },
    {
      "cell_type": "code",
      "metadata": {
        "id": "dZ5ebu8VSgK2"
      },
      "source": [
        "from sklearn.model_selection import train_test_split\n",
        "\n",
        "train_X, valid_X, train_y, valid_y = train_test_split(X_train_le, y_train_le, test_size=0.25, random_state=42)"
      ],
      "execution_count": null,
      "outputs": []
    },
    {
      "cell_type": "code",
      "metadata": {
        "id": "zndoIzHITt3-"
      },
      "source": [
        "train_X = train_X.to_numpy()\n",
        "valid_X = valid_X.to_numpy()\n",
        "train_y = train_y.to_numpy()\n",
        "valid_y = valid_y.to_numpy()\n",
        "\n",
        "test_X = X_test_le.to_numpy()"
      ],
      "execution_count": null,
      "outputs": []
    },
    {
      "cell_type": "code",
      "metadata": {
        "colab": {
          "base_uri": "https://localhost:8080/"
        },
        "id": "Q7y7ATdRURBK",
        "outputId": "9e5540eb-41ea-4dc2-c8ef-13885a289371"
      },
      "source": [
        "import torch\n",
        "\n",
        "max_epochs = 30\n",
        "batch_size = 1024\n",
        "clf = TabNetClassifier(cat_idxs=cat_idxs,\n",
        "                       cat_dims=cat_dims,\n",
        "                       cat_emb_dim=1,\n",
        "                       optimizer_fn=torch.optim.Adam,\n",
        "                       optimizer_params=dict(lr=1e-4),\n",
        "                       scheduler_fn=torch.optim.lr_scheduler.OneCycleLR,\n",
        "                       scheduler_params={\"is_batch_level\":True,\n",
        "                                         \"max_lr\":2e-2,\n",
        "                                         \"steps_per_epoch\":int(X_train_le.shape[0] / batch_size)+1,\n",
        "                                         \"epochs\":max_epochs\n",
        "                                          },\n",
        "                       mask_type='entmax',\n",
        "                      )\n"
      ],
      "execution_count": null,
      "outputs": [
        {
          "output_type": "stream",
          "text": [
            "Device used : cuda\n"
          ],
          "name": "stdout"
        }
      ]
    },
    {
      "cell_type": "code",
      "metadata": {
        "id": "8UQzvYu9Uy4Y"
      },
      "source": [
        "from pytorch_tabnet.metrics import Metric\n",
        "from sklearn.metrics import roc_auc_score\n",
        "\n",
        "class Gini(Metric):\n",
        "    def __init__(self):\n",
        "        self._name = \"gini\"\n",
        "        self._maximize = True\n",
        "\n",
        "    def __call__(self, y_true, y_score):\n",
        "        auc = roc_auc_score(y_true, y_score[:, 1])\n",
        "        return max(2*auc - 1, 0.)"
      ],
      "execution_count": null,
      "outputs": []
    },
    {
      "cell_type": "code",
      "metadata": {
        "colab": {
          "base_uri": "https://localhost:8080/"
        },
        "id": "GYx6xGsEU37d",
        "outputId": "f1972f28-7a85-4132-df9d-922ee9f3a8a5"
      },
      "source": [
        "clf.fit(\n",
        "    X_train=train_X, y_train=train_y,\n",
        "    eval_set=[(train_X, train_y), (valid_X, valid_y)],\n",
        "    eval_name=['train', 'val'],\n",
        "    eval_metric=[Gini],\n",
        "    max_epochs=max_epochs , patience=10,\n",
        "    batch_size=batch_size,\n",
        "    virtual_batch_size=128,\n",
        "    num_workers=0,\n",
        "    weights=1,\n",
        "    drop_last=False\n",
        ")"
      ],
      "execution_count": null,
      "outputs": [
        {
          "output_type": "stream",
          "text": [
            "epoch 0  | loss: 0.80049 | train_gini: 0.19758 | val_gini: 0.207   |  0:00:19s\n",
            "epoch 1  | loss: 0.7078  | train_gini: 0.22245 | val_gini: 0.22712 |  0:00:39s\n",
            "epoch 2  | loss: 0.68335 | train_gini: 0.37108 | val_gini: 0.37308 |  0:00:59s\n",
            "epoch 3  | loss: 0.64436 | train_gini: 0.41081 | val_gini: 0.4018  |  0:01:19s\n",
            "epoch 4  | loss: 0.63097 | train_gini: 0.43174 | val_gini: 0.42098 |  0:01:39s\n",
            "epoch 5  | loss: 0.62295 | train_gini: 0.43962 | val_gini: 0.428   |  0:01:59s\n",
            "epoch 6  | loss: 0.61924 | train_gini: 0.44949 | val_gini: 0.43398 |  0:02:19s\n",
            "epoch 7  | loss: 0.61033 | train_gini: 0.48314 | val_gini: 0.46683 |  0:02:38s\n",
            "epoch 8  | loss: 0.60047 | train_gini: 0.50128 | val_gini: 0.47712 |  0:02:58s\n",
            "epoch 9  | loss: 0.59003 | train_gini: 0.5234  | val_gini: 0.49225 |  0:03:18s\n",
            "epoch 10 | loss: 0.58257 | train_gini: 0.53753 | val_gini: 0.49922 |  0:03:37s\n",
            "epoch 11 | loss: 0.57764 | train_gini: 0.54852 | val_gini: 0.50844 |  0:03:57s\n",
            "epoch 12 | loss: 0.57128 | train_gini: 0.55936 | val_gini: 0.50404 |  0:04:17s\n",
            "epoch 13 | loss: 0.56428 | train_gini: 0.55936 | val_gini: 0.50144 |  0:04:37s\n",
            "epoch 14 | loss: 0.55741 | train_gini: 0.58067 | val_gini: 0.493   |  0:04:56s\n",
            "epoch 15 | loss: 0.55024 | train_gini: 0.57354 | val_gini: 0.49488 |  0:05:16s\n",
            "epoch 16 | loss: 0.53918 | train_gini: 0.59878 | val_gini: 0.49065 |  0:05:36s\n",
            "epoch 17 | loss: 0.52879 | train_gini: 0.63004 | val_gini: 0.49095 |  0:05:55s\n",
            "epoch 18 | loss: 0.52195 | train_gini: 0.63626 | val_gini: 0.48754 |  0:06:15s\n",
            "epoch 19 | loss: 0.51664 | train_gini: 0.61491 | val_gini: 0.47346 |  0:06:35s\n",
            "epoch 20 | loss: 0.51014 | train_gini: 0.65599 | val_gini: 0.47493 |  0:06:54s\n",
            "epoch 21 | loss: 0.50302 | train_gini: 0.65664 | val_gini: 0.48359 |  0:07:14s\n",
            "\n",
            "Early stopping occurred at epoch 21 with best_epoch = 11 and best_val_gini = 0.50844\n",
            "Best weights from best epoch are automatically used!\n"
          ],
          "name": "stdout"
        }
      ]
    },
    {
      "cell_type": "code",
      "metadata": {
        "colab": {
          "base_uri": "https://localhost:8080/"
        },
        "id": "GQx3lVLGU4u-",
        "outputId": "dce3f814-5cd1-4b56-ace1-1bfa4255dc2f"
      },
      "source": [
        "preds = clf.predict_proba(test_X)[:,1]\n",
        "\n",
        "from sklearn.metrics import roc_auc_score\n",
        "roc_auc_score(y_test, preds)"
      ],
      "execution_count": null,
      "outputs": [
        {
          "output_type": "execute_result",
          "data": {
            "text/plain": [
              "0.7276268065715816"
            ]
          },
          "metadata": {
            "tags": []
          },
          "execution_count": 84
        }
      ]
    },
    {
      "cell_type": "code",
      "metadata": {
        "id": "Qkw9bUHvWXvH"
      },
      "source": [
        "kaggle_test_preds2= clf.predict(kaggle_test_le.to_numpy())"
      ],
      "execution_count": null,
      "outputs": []
    },
    {
      "cell_type": "code",
      "metadata": {
        "colab": {
          "base_uri": "https://localhost:8080/"
        },
        "id": "FAaaHr5PbJHz",
        "outputId": "866c2ce9-d766-4637-c9fd-eef5b3e83007"
      },
      "source": [
        "kaggle_test_preds2"
      ],
      "execution_count": null,
      "outputs": [
        {
          "output_type": "execute_result",
          "data": {
            "text/plain": [
              "array([1, 1, 1, ..., 0, 0, 1])"
            ]
          },
          "metadata": {
            "tags": []
          },
          "execution_count": 86
        }
      ]
    },
    {
      "cell_type": "code",
      "metadata": {
        "colab": {
          "base_uri": "https://localhost:8080/",
          "height": 76
        },
        "id": "riTxPO7VWIaa",
        "outputId": "6e27ce83-4e3d-493e-9411-f120e27e07ae"
      },
      "source": [
        "kaggle_test2 = pd.read_csv(path + '/kaggle_test.csv')\n",
        "ids = kaggle_test2['SK_ID_CURR'].values\n",
        "A = pd.DataFrame(ids)\n",
        "A['TARGET'] = kaggle_test_preds2\n",
        "A['SK_ID_CURR'] = ids\n",
        "A = A.set_index('SK_ID_CURR')\n",
        "A[A['TARGET']<0]"
      ],
      "execution_count": null,
      "outputs": [
        {
          "output_type": "execute_result",
          "data": {
            "text/html": [
              "<div>\n",
              "<style scoped>\n",
              "    .dataframe tbody tr th:only-of-type {\n",
              "        vertical-align: middle;\n",
              "    }\n",
              "\n",
              "    .dataframe tbody tr th {\n",
              "        vertical-align: top;\n",
              "    }\n",
              "\n",
              "    .dataframe thead th {\n",
              "        text-align: right;\n",
              "    }\n",
              "</style>\n",
              "<table border=\"1\" class=\"dataframe\">\n",
              "  <thead>\n",
              "    <tr style=\"text-align: right;\">\n",
              "      <th></th>\n",
              "      <th>0</th>\n",
              "      <th>TARGET</th>\n",
              "    </tr>\n",
              "    <tr>\n",
              "      <th>SK_ID_CURR</th>\n",
              "      <th></th>\n",
              "      <th></th>\n",
              "    </tr>\n",
              "  </thead>\n",
              "  <tbody>\n",
              "  </tbody>\n",
              "</table>\n",
              "</div>"
            ],
            "text/plain": [
              "Empty DataFrame\n",
              "Columns: [0, TARGET]\n",
              "Index: []"
            ]
          },
          "metadata": {
            "tags": []
          },
          "execution_count": 87
        }
      ]
    },
    {
      "cell_type": "code",
      "metadata": {
        "id": "_vZSLE9nWOef"
      },
      "source": [
        "sample = pd.read_csv(path + '/sample_submission.csv')\n",
        "sample = sample.set_index('SK_ID_CURR')\n",
        "sample['TARGET'] = A['TARGET']\n",
        "sample.to_csv(path+'/my_submission_tabnet_072.csv')\n"
      ],
      "execution_count": null,
      "outputs": []
    },
    {
      "cell_type": "code",
      "metadata": {
        "colab": {
          "base_uri": "https://localhost:8080/"
        },
        "id": "VNDB-RvlXfdx",
        "outputId": "13db04b5-ee09-4c91-aeca-1ce46bee623e"
      },
      "source": [
        "max_epochs = 30\n",
        "batch_size = 1024\n",
        "clf1 = TabNetClassifier(cat_idxs=cat_idxs,\n",
        "                       cat_dims=cat_dims,\n",
        "                       cat_emb_dim=1,\n",
        "                       optimizer_fn=torch.optim.Adam,\n",
        "                       optimizer_params=dict(lr=2e-2),\n",
        "                       scheduler_fn=torch.optim.lr_scheduler.ReduceLROnPlateau,\n",
        "                       scheduler_params={\"mode\":'max', # max because default eval metric for binary is AUC\n",
        "                                          \"factor\":0.25,\n",
        "                                          \"patience\":5},\n",
        "                       mask_type='entmax', # \"sparsemax\",\n",
        "                      )"
      ],
      "execution_count": null,
      "outputs": [
        {
          "output_type": "stream",
          "text": [
            "Device used : cuda\n"
          ],
          "name": "stdout"
        }
      ]
    },
    {
      "cell_type": "code",
      "metadata": {
        "colab": {
          "base_uri": "https://localhost:8080/"
        },
        "id": "h7cu0EObXgLh",
        "outputId": "a1972cce-d03b-4e05-a9f7-d500128a2f10"
      },
      "source": [
        "clf1.fit(\n",
        "    X_train=train_X, y_train=train_y,\n",
        "    eval_set=[(train_X, train_y), (valid_X, valid_y)],\n",
        "    eval_name=['train', 'val'],\n",
        "    eval_metric=[Gini],\n",
        "    max_epochs=max_epochs , patience=5,\n",
        "    batch_size=batch_size,\n",
        "    virtual_batch_size=128,\n",
        "    num_workers=0,\n",
        "    weights=1,\n",
        "    drop_last=False\n",
        ")"
      ],
      "execution_count": null,
      "outputs": [
        {
          "output_type": "stream",
          "text": [
            "epoch 0  | loss: 0.66045 | train_gini: 0.44566 | val_gini: 0.43874 |  0:00:18s\n",
            "epoch 1  | loss: 0.60792 | train_gini: 0.488   | val_gini: 0.47966 |  0:00:36s\n",
            "epoch 2  | loss: 0.59002 | train_gini: 0.51496 | val_gini: 0.49856 |  0:00:55s\n",
            "epoch 3  | loss: 0.58084 | train_gini: 0.53654 | val_gini: 0.50607 |  0:01:13s\n",
            "epoch 4  | loss: 0.57286 | train_gini: 0.55372 | val_gini: 0.50489 |  0:01:31s\n",
            "epoch 5  | loss: 0.56242 | train_gini: 0.56283 | val_gini: 0.4951  |  0:01:49s\n",
            "epoch 6  | loss: 0.55404 | train_gini: 0.59245 | val_gini: 0.50019 |  0:02:07s\n",
            "epoch 7  | loss: 0.54552 | train_gini: 0.60923 | val_gini: 0.4851  |  0:02:25s\n",
            "epoch 8  | loss: 0.54003 | train_gini: 0.61582 | val_gini: 0.47838 |  0:02:44s\n",
            "\n",
            "Early stopping occurred at epoch 8 with best_epoch = 3 and best_val_gini = 0.50607\n",
            "Best weights from best epoch are automatically used!\n"
          ],
          "name": "stdout"
        }
      ]
    },
    {
      "cell_type": "code",
      "metadata": {
        "colab": {
          "base_uri": "https://localhost:8080/"
        },
        "id": "pg5KCdoqXg7l",
        "outputId": "7407ea75-867a-4f4c-e0f9-b22762d9cd9b"
      },
      "source": [
        "preds1 = clf1.predict_proba(test_X)[:,1]\n",
        "\n",
        "from sklearn.metrics import roc_auc_score\n",
        "roc_auc_score(y_test, preds1)"
      ],
      "execution_count": null,
      "outputs": [
        {
          "output_type": "execute_result",
          "data": {
            "text/plain": [
              "0.68106161005419"
            ]
          },
          "metadata": {
            "tags": []
          },
          "execution_count": 58
        }
      ]
    },
    {
      "cell_type": "code",
      "metadata": {
        "colab": {
          "base_uri": "https://localhost:8080/"
        },
        "id": "fdmj0ttrXhkJ",
        "outputId": "12359742-ba86-446e-b563-37c0abdb2b8b"
      },
      "source": [
        "max_epochs = 20\n",
        "clf2 = TabNetClassifier(cat_idxs=cat_idxs,\n",
        "                       cat_dims=cat_dims,\n",
        "                       cat_emb_dim=1,\n",
        "                       optimizer_fn=torch.optim.Adam,\n",
        "                       optimizer_params=dict(lr=2e-2),\n",
        "                       scheduler_params={\"step_size\":50, # how to use learning rate scheduler\n",
        "                                         \"gamma\":0.9},\n",
        "                       scheduler_fn=torch.optim.lr_scheduler.StepLR,\n",
        "                       mask_type='entmax'\n",
        "                      )"
      ],
      "execution_count": null,
      "outputs": [
        {
          "output_type": "stream",
          "text": [
            "Device used : cuda\n"
          ],
          "name": "stdout"
        }
      ]
    },
    {
      "cell_type": "code",
      "metadata": {
        "colab": {
          "base_uri": "https://localhost:8080/"
        },
        "id": "2AZ30RDAXiS9",
        "outputId": "4dcaf226-8a2d-4678-e9f9-bf68edbbbf98"
      },
      "source": [
        "clf2.fit(\n",
        "    X_train=train_X, y_train=train_y,\n",
        "    eval_set=[(train_X, train_y), (valid_X, valid_y)],\n",
        "    eval_name=['train', 'val'],\n",
        "    eval_metric=[Gini],\n",
        "    max_epochs=max_epochs , patience=10,\n",
        "    batch_size=2048,\n",
        "    virtual_batch_size=256,\n",
        "    num_workers=0,\n",
        "    weights=1,\n",
        "    drop_last=False,\n",
        ")"
      ],
      "execution_count": null,
      "outputs": [
        {
          "output_type": "stream",
          "text": [
            "epoch 0  | loss: 0.6855  | train_gini: 0.28525 | val_gini: 0.29601 |  0:00:11s\n",
            "epoch 1  | loss: 0.64557 | train_gini: 0.41183 | val_gini: 0.41242 |  0:00:23s\n",
            "epoch 2  | loss: 0.60464 | train_gini: 0.49523 | val_gini: 0.48652 |  0:00:35s\n",
            "epoch 3  | loss: 0.5839  | train_gini: 0.51153 | val_gini: 0.49672 |  0:00:47s\n",
            "epoch 4  | loss: 0.57618 | train_gini: 0.52605 | val_gini: 0.50232 |  0:00:59s\n",
            "epoch 5  | loss: 0.56805 | train_gini: 0.54499 | val_gini: 0.50321 |  0:01:11s\n",
            "epoch 6  | loss: 0.56097 | train_gini: 0.56086 | val_gini: 0.50238 |  0:01:23s\n",
            "epoch 7  | loss: 0.55377 | train_gini: 0.56381 | val_gini: 0.48679 |  0:01:35s\n",
            "epoch 8  | loss: 0.54588 | train_gini: 0.59588 | val_gini: 0.48877 |  0:01:47s\n",
            "epoch 9  | loss: 0.53785 | train_gini: 0.60664 | val_gini: 0.48538 |  0:01:59s\n",
            "epoch 10 | loss: 0.53056 | train_gini: 0.61573 | val_gini: 0.47372 |  0:02:11s\n",
            "epoch 11 | loss: 0.5235  | train_gini: 0.55388 | val_gini: 0.43115 |  0:02:23s\n",
            "epoch 12 | loss: 0.51892 | train_gini: 0.59286 | val_gini: 0.45745 |  0:02:35s\n",
            "epoch 13 | loss: 0.51035 | train_gini: 0.5864  | val_gini: 0.45541 |  0:02:47s\n",
            "epoch 14 | loss: 0.5089  | train_gini: 0.65027 | val_gini: 0.46652 |  0:02:59s\n",
            "epoch 15 | loss: 0.50258 | train_gini: 0.65877 | val_gini: 0.45843 |  0:03:11s\n",
            "\n",
            "Early stopping occurred at epoch 15 with best_epoch = 5 and best_val_gini = 0.50321\n",
            "Best weights from best epoch are automatically used!\n"
          ],
          "name": "stdout"
        }
      ]
    },
    {
      "cell_type": "code",
      "metadata": {
        "id": "Vxc_HGH_l4aS"
      },
      "source": [
        ""
      ],
      "execution_count": null,
      "outputs": []
    }
  ]
}